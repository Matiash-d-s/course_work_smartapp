{
 "cells": [
  {
   "cell_type": "code",
   "execution_count": 3,
   "metadata": {},
   "outputs": [],
   "source": [
    "import bs4\n",
    "import json\n",
    "\n",
    "with open('flags.html', 'r', encoding='utf8') as file:\n",
    "    html = file.read()\n",
    "page = bs4.BeautifulSoup(html)\n",
    "\n",
    "data = []\n",
    "for row in page.find('tbody').find_all('tr')[1:]:\n",
    "    name, emoji = (row.td['title'], row.td.string)\n",
    "    data.append(dict(name=name, emoji=emoji)) \n",
    "\n",
    "with open('flags.json', 'w', encoding='utf8') as file:\n",
    "    json.dump(data, file, ensure_ascii=False, indent=2)"
   ]
  },
  {
   "cell_type": "code",
   "execution_count": 1,
   "metadata": {},
   "outputs": [],
   "source": [
    "with open('flags.json', 'r', encoding='utf8') as file:\n",
    "    data = json.load(file)"
   ]
  },
  {
   "cell_type": "code",
   "execution_count": 25,
   "metadata": {},
   "outputs": [],
   "source": [
    "with open('iso.htm', 'r', encoding='utf8') as file:\n",
    "    html = file.read()\n",
    "    \n",
    "page = bs4.BeautifulSoup(html)\n",
    "\n",
    "data = []\n",
    "for row in page.find_all('tr')[1:]:\n",
    "#     name, iso = \n",
    "    tds = row.find_all('td')\n",
    "    try:\n",
    "        name, iso = (tds[0].span.span['data-sort-value'], tds[1].string.lower())\n",
    "        data.append(dict(name=name, iso=iso))\n",
    "    except: pass\n",
    "    \n",
    "with open('flags.json', 'w', encoding='utf8') as file:\n",
    "    json.dump(data, file, ensure_ascii=False, indent=2)"
   ]
  }
 ],
 "metadata": {
  "kernelspec": {
   "display_name": "Python 3",
   "language": "python",
   "name": "python3"
  },
  "language_info": {
   "codemirror_mode": {
    "name": "ipython",
    "version": 3
   },
   "file_extension": ".py",
   "mimetype": "text/x-python",
   "name": "python",
   "nbconvert_exporter": "python",
   "pygments_lexer": "ipython3",
   "version": "3.8.5"
  }
 },
 "nbformat": 4,
 "nbformat_minor": 4
}
